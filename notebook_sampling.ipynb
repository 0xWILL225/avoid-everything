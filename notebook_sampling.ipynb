{
 "cells": [
  {
   "cell_type": "code",
   "execution_count": 1,
   "id": "5bfb09d0",
   "metadata": {},
   "outputs": [
    {
     "name": "stdout",
     "output_type": "stream",
     "text": [
      "/workspace\n"
     ]
    },
    {
     "name": "stderr",
     "output_type": "stream",
     "text": [
      "/usr/local/lib/python3.10/dist-packages/IPython/core/magics/osm.py:417: UserWarning: This is now an optional IPython functionality, setting dhist requires you to install the `pickleshare` library.\n",
      "  self.shell.db['dhist'] = compress_dhist(dhist)[-100:]\n"
     ]
    }
   ],
   "source": [
    "%cd /workspace\n",
    "import sys\n",
    "import os\n",
    "\n",
    "# Set PYTHONPATH environment variable for the kernel\n",
    "robofin_path = os.path.join(os.getcwd(), 'robofin')\n",
    "current_pythonpath = os.environ.get('PYTHONPATH', '')\n",
    "if robofin_path not in current_pythonpath:\n",
    "    os.environ['PYTHONPATH'] = f\"{robofin_path}:{current_pythonpath}\" if current_pythonpath else robofin_path\n",
    "\n",
    "# Also add to sys.path for immediate effect\n",
    "if robofin_path not in sys.path:\n",
    "    sys.path.insert(0, robofin_path)"
   ]
  },
  {
   "cell_type": "code",
   "execution_count": 2,
   "id": "83ac890f",
   "metadata": {},
   "outputs": [],
   "source": [
    "%reload_ext autoreload\n",
    "%autoreload 2"
   ]
  },
  {
   "cell_type": "code",
   "execution_count": 3,
   "id": "5df16f5b",
   "metadata": {},
   "outputs": [],
   "source": [
    "import numpy as np\n",
    "import torch\n",
    "from robofin.robots import Robot\n",
    "\n",
    "from robofin.robots_original import FrankaRobot\n",
    "from robofin.robot_constants import FrankaConstants\n",
    "\n",
    "neutral_config = FrankaConstants.NEUTRAL\n",
    "\n",
    "# Load the Robot class with the standard URDF file (uses relative paths)\n",
    "robot = Robot(\"assets/panda/panda.urdf\")"
   ]
  },
  {
   "cell_type": "code",
   "execution_count": null,
   "id": "b8ad65b9",
   "metadata": {},
   "outputs": [
    {
     "data": {
      "text/plain": [
       "array([[-1.00000000e+00,  2.79315693e-12,  0.00000000e+00,\n",
       "         0.00000000e+00],\n",
       "       [-2.79319215e-12, -1.00000000e+00,  0.00000000e+00,\n",
       "         0.00000000e+00],\n",
       "       [ 0.00000000e+00,  0.00000000e+00,  1.00000000e+00,\n",
       "        -1.00000000e-01],\n",
       "       [ 0.00000000e+00,  0.00000000e+00,  0.00000000e+00,\n",
       "         1.00000000e+00]])"
      ]
     },
     "execution_count": 5,
     "metadata": {},
     "output_type": "execute_result"
    },
    {
     "ename": "",
     "evalue": "",
     "output_type": "error",
     "traceback": [
      "\u001b[1;31mThe Kernel crashed while executing code in the current cell or a previous cell. \n",
      "\u001b[1;31mPlease review the code in the cell(s) to identify a possible cause of the failure. \n",
      "\u001b[1;31mClick <a href='https://aka.ms/vscodeJupyterKernelCrash'>here</a> for more info. \n",
      "\u001b[1;31mView Jupyter <a href='command:jupyter.viewOutput'>log</a> for further details."
     ]
    }
   ],
   "source": [
    "robot.fixed_eef_link_transforms[\"panda_hand\"]"
   ]
  },
  {
   "cell_type": "code",
   "execution_count": 4,
   "id": "2bf71bf7",
   "metadata": {},
   "outputs": [
    {
     "name": "stdout",
     "output_type": "stream",
     "text": [
      "----------------------------------------------------------------------------------------------------\n",
      "parent (panda_hand) pose:\n",
      " [[-1.00000000e+00  2.79315693e-12  0.00000000e+00  0.00000000e+00]\n",
      " [-2.79319215e-12 -1.00000000e+00  0.00000000e+00  0.00000000e+00]\n",
      " [ 0.00000000e+00  0.00000000e+00  1.00000000e+00 -1.00000000e-01]\n",
      " [ 0.00000000e+00  0.00000000e+00  0.00000000e+00  1.00000000e+00]]\n",
      "joint (panda_finger_joint1) transform:\n",
      " [[1.     0.     0.     0.    ]\n",
      " [0.     1.     0.     0.04  ]\n",
      " [0.     0.     1.     0.0584]\n",
      " [0.     0.     0.     1.    ]]\n",
      "child (panda_leftfinger) pose:\n",
      " [[-1.00000000e+00  2.79315693e-12  0.00000000e+00  0.00000000e+00]\n",
      " [-2.79319215e-12 -1.00000000e+00  0.00000000e+00  4.00000000e-02]\n",
      " [ 0.00000000e+00  0.00000000e+00  1.00000000e+00 -4.16000000e-02]\n",
      " [ 0.00000000e+00  0.00000000e+00  0.00000000e+00  1.00000000e+00]]\n",
      "----------------------------------------------------------------------------------------------------\n",
      "parent (panda_hand) pose:\n",
      " [[-1.00000000e+00  2.79315693e-12  0.00000000e+00  0.00000000e+00]\n",
      " [-2.79319215e-12 -1.00000000e+00  0.00000000e+00  0.00000000e+00]\n",
      " [ 0.00000000e+00  0.00000000e+00  1.00000000e+00 -1.00000000e-01]\n",
      " [ 0.00000000e+00  0.00000000e+00  0.00000000e+00  1.00000000e+00]]\n",
      "joint (panda_finger_joint2) transform:\n",
      " [[ 1.      0.      0.      0.    ]\n",
      " [ 0.      1.      0.     -0.04  ]\n",
      " [ 0.      0.      1.      0.0584]\n",
      " [ 0.      0.      0.      1.    ]]\n",
      "child (panda_rightfinger) pose:\n",
      " [[-1.00000000e+00  2.79315693e-12  0.00000000e+00  0.00000000e+00]\n",
      " [-2.79319215e-12 -1.00000000e+00  0.00000000e+00 -4.00000000e-02]\n",
      " [ 0.00000000e+00  0.00000000e+00  1.00000000e+00 -4.16000000e-02]\n",
      " [ 0.00000000e+00  0.00000000e+00  0.00000000e+00  1.00000000e+00]]\n"
     ]
    },
    {
     "data": {
      "text/plain": [
       "array([[-1.00000000e+00,  2.79315693e-12,  0.00000000e+00,\n",
       "         0.00000000e+00],\n",
       "       [-2.79319215e-12, -1.00000000e+00,  0.00000000e+00,\n",
       "         4.00000000e-02],\n",
       "       [ 0.00000000e+00,  0.00000000e+00,  1.00000000e+00,\n",
       "        -4.16000000e-02],\n",
       "       [ 0.00000000e+00,  0.00000000e+00,  0.00000000e+00,\n",
       "         1.00000000e+00]])"
      ]
     },
     "execution_count": 4,
     "metadata": {},
     "output_type": "execute_result"
    }
   ],
   "source": [
    "# test eef_fk\n",
    "\n",
    "robot.eef_fk(np.eye(4))[\"panda_leftfinger\"]"
   ]
  },
  {
   "cell_type": "code",
   "execution_count": null,
   "id": "5aef638b",
   "metadata": {},
   "outputs": [],
   "source": [
    "import numpy as np\n",
    "import torch\n",
    "from typing import Dict\n",
    "\n",
    "np_configs: np.ndarray = np.array([neutral_config, neutral_config])\n",
    "torch_configs: torch.Tensor = torch.tensor(np_configs)\n",
    "\n",
    "print(np_configs.shape)\n",
    "print(torch_configs.shape)"
   ]
  },
  {
   "cell_type": "code",
   "execution_count": null,
   "id": "22fde552",
   "metadata": {},
   "outputs": [],
   "source": [
    "fk_np: Dict[str, np.ndarray] = robot.fk(neutral_config)\n",
    "fk_torch: Dict[str, torch.Tensor] = robot.fk_torch(torch.tensor(neutral_config))"
   ]
  },
  {
   "cell_type": "code",
   "execution_count": null,
   "id": "02675ba8",
   "metadata": {},
   "outputs": [],
   "source": [
    "np_visual_fk = robot.visual_fk(np_configs)\n",
    "torch_visual_fk = robot.visual_fk_torch(torch_configs)"
   ]
  },
  {
   "cell_type": "code",
   "execution_count": null,
   "id": "73bce632",
   "metadata": {},
   "outputs": [],
   "source": [
    "print(fk_np.keys())\n",
    "print(fk_torch.keys())\n",
    "fk_torch[\"right_gripper\"]\n",
    "\n",
    "print(np_visual_fk.keys())\n",
    "print(torch_visual_fk.keys())"
   ]
  },
  {
   "cell_type": "code",
   "execution_count": null,
   "id": "a1dd7683",
   "metadata": {},
   "outputs": [],
   "source": [
    "\n",
    "np_fk_gripper = fk_np[\"right_gripper\"]\n",
    "torch_fk_gripper = fk_torch[\"right_gripper\"].detach().cpu().numpy()\n",
    "\n",
    "print(\"Numpy FK shape:\", np_fk_gripper.shape)\n",
    "print(\"Torch FK shape:\", torch_fk_gripper.shape)\n",
    "print(\"Difference (max abs):\", np.abs(np_fk_gripper - torch_fk_gripper).max())\n",
    "\n",
    "# Optionally, test visual FK as well\n",
    "if hasattr(robot, \"visual_fk\") and hasattr(robot, \"visual_fk_torch\"):\n",
    "    np_visual_fk = robot.visual_fk(np_configs)\n",
    "    torch_visual_fk = robot.visual_fk_torch(torch_configs)\n",
    "    np_vis_gripper = np_visual_fk[\"panda_hand\"]\n",
    "    torch_vis_gripper = torch_visual_fk[\"panda_hand\"].detach().cpu().numpy()\n",
    "    print(\"Visual FK difference (max abs):\", np.abs(np_vis_gripper - torch_vis_gripper).max())"
   ]
  },
  {
   "cell_type": "code",
   "execution_count": null,
   "id": "ff272f58",
   "metadata": {},
   "outputs": [],
   "source": [
    "np_visual_fk = robot.visual_fk(np_configs, link_name=\"panda_hand\")\n",
    "torch_visual_fk = robot.visual_fk_torch(torch_configs, link_name=\"panda_hand\")"
   ]
  },
  {
   "cell_type": "code",
   "execution_count": null,
   "id": "09ff4a1f",
   "metadata": {},
   "outputs": [],
   "source": [
    "\n",
    "from robofin.samplers import NumpyRobotSampler\n",
    "from robofin.samplers_original import NumpyFrankaSampler\n",
    "\n",
    "franka_visual_fk = franka_arm_visual_fk(neutral_config, 0.02, np.eye(4))\n",
    "\n",
    "sampler = NumpyRobotSampler(robot=robot, num_robot_points=1000, num_eef_points=100, use_cache=True)\n",
    "sampler.sample(neutral_config, 0.02, num_points=100)"
   ]
  },
  {
   "cell_type": "code",
   "execution_count": null,
   "id": "a248808c",
   "metadata": {},
   "outputs": [],
   "source": []
  }
 ],
 "metadata": {
  "kernelspec": {
   "display_name": "Python 3",
   "language": "python",
   "name": "python3"
  },
  "language_info": {
   "codemirror_mode": {
    "name": "ipython",
    "version": 3
   },
   "file_extension": ".py",
   "mimetype": "text/x-python",
   "name": "python",
   "nbconvert_exporter": "python",
   "pygments_lexer": "ipython3",
   "version": "3.10.12"
  }
 },
 "nbformat": 4,
 "nbformat_minor": 5
}
